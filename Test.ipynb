{
 "cells": [
  {
   "cell_type": "markdown",
   "id": "c053b333",
   "metadata": {},
   "source": [
    "# My Jupyter Notebook on IBM Watson Studio"
   ]
  },
  {
   "cell_type": "markdown",
   "id": "4b2849ef",
   "metadata": {},
   "source": [
    "### Tianyu Yang\n",
    "Data Scientist"
   ]
  },
  {
   "cell_type": "markdown",
   "id": "35c2ce19",
   "metadata": {},
   "source": [
    "I am interested in data science because I like to deal with the challenge in the life."
   ]
  },
  {
   "cell_type": "markdown",
   "id": "3f4b81d4",
   "metadata": {},
   "source": [
    "## cell5 will Print a string \"Hello World\""
   ]
  },
  {
   "cell_type": "code",
   "execution_count": 2,
   "id": "58b7097f",
   "metadata": {},
   "outputs": [
    {
     "name": "stdout",
     "output_type": "stream",
     "text": [
      "Hello World\n"
     ]
    }
   ],
   "source": [
    "print(\"Hello World\")"
   ]
  },
  {
   "cell_type": "markdown",
   "id": "ad899774",
   "metadata": {},
   "source": [
    "| Heading | Heading |\n",
    "| ----| ----|\n",
    "| text   | text |\n",
    "| text | text |\n"
   ]
  },
  {
   "cell_type": "code",
   "execution_count": null,
   "id": "013a7074",
   "metadata": {},
   "outputs": [],
   "source": []
  }
 ],
 "metadata": {
  "kernelspec": {
   "display_name": "Python 3 (ipykernel)",
   "language": "python",
   "name": "python3"
  },
  "language_info": {
   "codemirror_mode": {
    "name": "ipython",
    "version": 3
   },
   "file_extension": ".py",
   "mimetype": "text/x-python",
   "name": "python",
   "nbconvert_exporter": "python",
   "pygments_lexer": "ipython3",
   "version": "3.9.0"
  }
 },
 "nbformat": 4,
 "nbformat_minor": 5
}
